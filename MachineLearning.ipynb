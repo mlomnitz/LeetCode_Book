{
 "cells": [
  {
   "cell_type": "markdown",
   "metadata": {},
   "source": [
    "## Implement PCA\n",
    "Assume you have a set of n 2-D variables, implement PCA. You may use numpy.\n",
    "\n",
    "Lets import numpy and initialize a random set of variables to trouble shoot the procedure. Let X be a set of N=100 (x,y) datapoints. To illustrate the procedure I will center them around 1 and recenter them at a second step"
   ]
  },
  {
   "cell_type": "code",
   "execution_count": 2,
   "metadata": {},
   "outputs": [
    {
     "data": {
      "text/plain": [
       "<matplotlib.collections.PathCollection at 0x10d68ddd8>"
      ]
     },
     "execution_count": 2,
     "metadata": {},
     "output_type": "execute_result"
    },
    {
     "data": {
      "image/png": "[encoded data removed]",
      "text/plain": [
       "<Figure size 432x288 with 1 Axes>"
      ]
     },
     "metadata": {},
     "output_type": "display_data"
    }
   ],
   "source": [
    "import numpy as np\n",
    "import matplotlib.pyplot as plot\n",
    "X = np.random.normal(1,0.1,size=(100,2))\n",
    "X[:,1]+= X[:,0]\n",
    "plot.scatter(X[:,0],X[:,1])"
   ]
  },
  {
   "cell_type": "markdown",
   "metadata": {},
   "source": [
    "Now that we have some data, lets start with PCA.\n",
    "### 1) Center the data"
   ]
  },
  {
   "cell_type": "code",
   "execution_count": 6,
   "metadata": {},
   "outputs": [
    {
     "data": {
      "text/plain": [
       "<matplotlib.collections.PathCollection at 0x10dac7d68>"
      ]
     },
     "execution_count": 6,
     "metadata": {},
     "output_type": "execute_result"
    },
    {
     "data": {
      "image/png": "[encoded data removed]",
      "text/plain": [
       "<Figure size 432x288 with 1 Axes>"
      ]
     },
     "metadata": {},
     "output_type": "display_data"
    }
   ],
   "source": [
    "X[:,0] -= np.mean(X[:,0])\n",
    "X[:,1] -= np.mean(X[:,1])\n",
    "plot.scatter(X[:,0],X[:,1])"
   ]
  },
  {
   "cell_type": "markdown",
   "metadata": {},
   "source": [
    "### 2) Get the covariance matrix and find the eigenvalues. then order the eigenvalues according to their size\n"
   ]
  },
  {
   "cell_type": "code",
   "execution_count": 10,
   "metadata": {},
   "outputs": [
    {
     "name": "stdout",
     "output_type": "stream",
     "text": [
      "Covariance matrix: \n",
      " [[0.00971486 0.00961866]\n",
      " [0.00961866 0.02096746]]\n",
      "lambda:  0.02648448871709949 v =  [ 0.49754254 -0.86743958]\n",
      "lambda:  0.004197823613359391 v =  [-0.86743958 -0.49754254]\n"
     ]
    }
   ],
   "source": [
    "cov = np.cov(X.T)\n",
    "print('Covariance matrix: \\n',cov)\n",
    "eigenval, eig = np.linalg.eig(cov)\n",
    "s_idx = np.argsort(eigenval)\n",
    "\n",
    "for a in reversed(s_idx):\n",
    "    print('lambda: ', eigenval[a], 'v = ',eig[a])\n"
   ]
  },
  {
   "cell_type": "markdown",
   "metadata": {},
   "source": [
    "### 3) Now project the recentered data points onto the eigenvalues"
   ]
  },
  {
   "cell_type": "code",
   "execution_count": 11,
   "metadata": {
    "scrolled": true
   },
   "outputs": [
    {
     "name": "stdout",
     "output_type": "stream",
     "text": [
      "[[-0.86743958 -0.49754254]\n",
      " [ 0.49754254 -0.86743958]]\n"
     ]
    },
    {
     "data": {
      "text/plain": [
       "<matplotlib.collections.PathCollection at 0x10dd60908>"
      ]
     },
     "execution_count": 11,
     "metadata": {},
     "output_type": "execute_result"
    },
    {
     "data": {
      "image/png": "[encoded data removed]",
      "text/plain": [
       "<Figure size 432x288 with 1 Axes>"
      ]
     },
     "metadata": {},
     "output_type": "display_data"
    }
   ],
   "source": [
    "eigen_space = np.concatenate(([eig[0]],[eig[1]]))\n",
    "print(eigen_space)\n",
    "pca_d = np.dot(X,eigen_space)\n",
    "#print(pca_d)\n",
    "plot.scatter(pca_d[:,0],pca_d[:,1])\n",
    "# for a in reversed(s_idx):\n",
    "#     #print('lambda: ', eigenval[a], 'v = ',eig[a])\n",
    "#     pca_d = np.dot(X.T, eig_space.T)"
   ]
  },
  {
   "cell_type": "markdown",
   "metadata": {},
   "source": [
    "## Logistic regression\n",
    "Assume we have a dataset X={x_1,x_2, ...,x_m }, with true labels Y = {}."
   ]
  },
  {
   "cell_type": "code",
   "execution_count": 46,
   "metadata": {},
   "outputs": [],
   "source": [
    "std_axis = 1\n",
    "step_size = 0.1\n",
    "X = np.random.normal(0,0.1,size = (5,5))"
   ]
  },
  {
   "cell_type": "markdown",
   "metadata": {},
   "source": [
    "### Normalize and center the data"
   ]
  },
  {
   "cell_type": "code",
   "execution_count": 33,
   "metadata": {},
   "outputs": [
    {
     "name": "stdout",
     "output_type": "stream",
     "text": [
      "[[ 0.81458984 -0.50866583 -2.49291594  0.47107464 -0.76012043]\n",
      " [ 2.15732197 -0.46218179  1.0540433   1.44235301 -0.90231205]\n",
      " [ 0.5825967  -0.18267205 -0.99895203  1.23601039 -0.51495155]\n",
      " [ 1.0911022  -1.63996312 -0.21325547  0.38118789 -0.62394796]\n",
      " [ 1.76625571 -0.57051823 -1.7367909   1.18120595 -0.38763395]]\n"
     ]
    }
   ],
   "source": [
    "X-=np.mean(X, axis=std_axis)\n",
    "X/=np.std(X,axis=std_axis)\n",
    "print(X)"
   ]
  },
  {
   "cell_type": "markdown",
   "metadata": {},
   "source": [
    "### Define the sigmoid and loss"
   ]
  },
  {
   "cell_type": "code",
   "execution_count": 37,
   "metadata": {},
   "outputs": [],
   "source": [
    "def sigmoid(z):\n",
    "    return 1/(1+np.exp(z))\n",
    "\n",
    "def cost_function(y_true, y_pred):\n",
    "    N = len(y_true)\n",
    "    return -np.dot(y_true,np.log(y_pred))+np.dot(1.-y_true,np.log(1.-y_pred))/N\n"
   ]
  },
  {
   "cell_type": "markdown",
   "metadata": {},
   "source": [
    "### Inititalize weights"
   ]
  },
  {
   "cell_type": "code",
   "execution_count": 44,
   "metadata": {},
   "outputs": [],
   "source": [
    "num_feature = X.shape[0]\n",
    "n_samples = X.shape[1]\n",
    "W = np.random.normal(0,0.1,size = (num_feature))"
   ]
  },
  {
   "cell_type": "code",
   "execution_count": 48,
   "metadata": {},
   "outputs": [
    {
     "ename": "NameError",
     "evalue": "name 'y_true' is not defined",
     "output_type": "error",
     "traceback": [
      "\u001b[0;31m---------------------------------------------------------------------------\u001b[0m",
      "\u001b[0;31mNameError\u001b[0m                                 Traceback (most recent call last)",
      "\u001b[0;32m<ipython-input-48-9d377ab34e76>\u001b[0m in \u001b[0;36m<module>\u001b[0;34m()\u001b[0m\n\u001b[1;32m      5\u001b[0m     \u001b[0mZ\u001b[0m \u001b[0;34m=\u001b[0m \u001b[0mnp\u001b[0m\u001b[0;34m.\u001b[0m\u001b[0mdot\u001b[0m\u001b[0;34m(\u001b[0m\u001b[0mW\u001b[0m\u001b[0;34m,\u001b[0m\u001b[0mX\u001b[0m\u001b[0;34m)\u001b[0m\u001b[0;34m\u001b[0m\u001b[0m\n\u001b[1;32m      6\u001b[0m     \u001b[0my_pred\u001b[0m \u001b[0;34m=\u001b[0m \u001b[0msigmoid\u001b[0m\u001b[0;34m(\u001b[0m\u001b[0mZ\u001b[0m\u001b[0;34m)\u001b[0m\u001b[0;34m\u001b[0m\u001b[0m\n\u001b[0;32m----> 7\u001b[0;31m     \u001b[0mcurr_cost\u001b[0m \u001b[0;34m=\u001b[0m \u001b[0;34m(\u001b[0m\u001b[0my_true\u001b[0m\u001b[0;34m,\u001b[0m \u001b[0my_pred\u001b[0m\u001b[0;34m)\u001b[0m\u001b[0;34m\u001b[0m\u001b[0m\n\u001b[0m\u001b[1;32m      8\u001b[0m     \u001b[0mW\u001b[0m\u001b[0;34m-=\u001b[0m\u001b[0mn_samples\u001b[0m\u001b[0;34m/\u001b[0m\u001b[0mstep_size\u001b[0m\u001b[0;34m*\u001b[0m\u001b[0mnp\u001b[0m\u001b[0;34m.\u001b[0m\u001b[0mdot\u001b[0m\u001b[0;34m(\u001b[0m\u001b[0mX\u001b[0m\u001b[0;34m.\u001b[0m\u001b[0mT\u001b[0m\u001b[0;34m,\u001b[0m\u001b[0my_pred\u001b[0m\u001b[0;34m-\u001b[0m\u001b[0my_true\u001b[0m\u001b[0;34m)\u001b[0m\u001b[0;34m\u001b[0m\u001b[0m\n\u001b[1;32m      9\u001b[0m     \u001b[0mdel_grad\u001b[0m \u001b[0;34m=\u001b[0m \u001b[0mnp\u001b[0m\u001b[0;34m.\u001b[0m\u001b[0mabs\u001b[0m\u001b[0;34m(\u001b[0m\u001b[0mprev_cost\u001b[0m\u001b[0;34m-\u001b[0m\u001b[0mcurr_cost\u001b[0m\u001b[0;34m)\u001b[0m\u001b[0;34m\u001b[0m\u001b[0m\n",
      "\u001b[0;31mNameError\u001b[0m: name 'y_true' is not defined"
     ]
    }
   ],
   "source": [
    "del_grad_tot = 0.0001\n",
    "del_grad = 10\n",
    "prev_cost = del_grad\n",
    "while del_grad > del_grad_tot:\n",
    "    Z = np.dot(W,X)\n",
    "    y_pred = sigmoid(Z)\n",
    "    curr_cost = (y_true, y_pred)\n",
    "    W-=n_samples/step_size*np.dot(X.T,y_pred-y_true)\n",
    "    del_grad = np.abs(prev_cost-curr_cost)\n",
    "    prev_cost = curr_cost"
   ]
  },
  {
   "cell_type": "code",
   "execution_count": null,
   "metadata": {},
   "outputs": [],
   "source": []
  }
 ],
 "metadata": {
  "kernelspec": {
   "display_name": "Python 3",
   "language": "python",
   "name": "python3"
  },
  "language_info": {
   "codemirror_mode": {
    "name": "ipython",
    "version": 3
   },
   "file_extension": ".py",
   "mimetype": "text/x-python",
   "name": "python",
   "nbconvert_exporter": "python",
   "pygments_lexer": "ipython3",
   "version": "3.6.4"
  }
 },
 "nbformat": 4,
 "nbformat_minor": 2
}
